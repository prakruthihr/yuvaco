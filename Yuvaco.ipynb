{
 "cells": [
  {
   "cell_type": "code",
   "execution_count": 19,
   "id": "04cf4e1b",
   "metadata": {},
   "outputs": [
    {
     "name": "stdout",
     "output_type": "stream",
     "text": [
      "   Package ID  Weight (kg)  Distance (km) Delivery Type  Cost\n",
      "0           1            3             10       Express  26.0\n",
      "1           2            5             25      Standard  25.0\n",
      "2           3            2              5       Express  19.0\n",
      "3           4            6             15      Standard  21.5\n",
      "4           5            4             30       Express  48.0\n"
     ]
    }
   ],
   "source": [
    "# Import pandas for reading the  data\n",
    "\n",
    "import pandas as pd\n",
    "\n",
    "# Sample data\n",
    "data = {\n",
    "    'Package ID': [1, 2, 3, 4, 5],\n",
    "    'Weight (kg)': [3, 5, 2, 6, 4],\n",
    "    'Distance (km)': [10, 25, 5, 15, 30],\n",
    "    'Delivery Type': ['Express', 'Standard', 'Express', 'Standard', 'Express']\n",
    "}\n",
    "\n",
    "# Create a DataFrame from the sample data\n",
    "df = pd.DataFrame(data)\n",
    "\n",
    "# Define the cost grid\n",
    "cost_grid = {\n",
    "    'Express': {\n",
    "        'Base Cost': 10,\n",
    "        'Cost per kg': 2,\n",
    "        'Cost per km': 1,\n",
    "    },\n",
    "    'Standard': {\n",
    "        'Base Cost': 5,\n",
    "        'Cost per kg': 1.5,\n",
    "        'Cost per km': 0.5,\n",
    "    }\n",
    "}\n",
    "\n",
    "# Function to calculate the cost for each row in the DataFrame\n",
    "def calculate_cost(row):\n",
    "    delivery_type = row['Delivery Type']\n",
    "    basecost = cost_grid[delivery_type]['Base Cost']\n",
    "    costperkg = cost_grid[delivery_type]['Cost per kg']\n",
    "    costperkm = cost_grid[delivery_type]['Cost per km']\n",
    "    \n",
    "    total_cost = basecost + (row['Weight (kg)'] * costperkg) + (row['Distance (km)'] * costperkm)\n",
    "    return total_cost\n",
    "\n",
    "# Apply the calculate_cost function to each row in the DataFrame\n",
    "df['Cost'] = df.apply(calculate_cost,axis=1)\n",
    "\n",
    "# Save the DataFrame to a CSV file\n",
    "df.to_csv('package_costs.csv',index=False)\n",
    "#Reading  csv file\n",
    "df1=pd.read_csv('package_costs.csv')\n",
    "print(df1)\n",
    "\n"
   ]
  },
  {
   "cell_type": "code",
   "execution_count": null,
   "id": "21a049be",
   "metadata": {},
   "outputs": [],
   "source": []
  }
 ],
 "metadata": {
  "kernelspec": {
   "display_name": "Python 3 (ipykernel)",
   "language": "python",
   "name": "python3"
  },
  "language_info": {
   "codemirror_mode": {
    "name": "ipython",
    "version": 3
   },
   "file_extension": ".py",
   "mimetype": "text/x-python",
   "name": "python",
   "nbconvert_exporter": "python",
   "pygments_lexer": "ipython3",
   "version": "3.9.12"
  }
 },
 "nbformat": 4,
 "nbformat_minor": 5
}
